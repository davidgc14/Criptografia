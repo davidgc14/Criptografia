{
 "cells": [
  {
   "cell_type": "code",
   "execution_count": 2,
   "metadata": {
    "vscode": {
     "languageId": "python"
    }
   },
   "outputs": [],
   "source": [
    "F.<xi>=GF(2^4,modulus=GF(2)[x](x^4+x+1))\n",
    "\n",
    "\n",
    "F.modulus()\n",
    "\n",
    "def nibblesub(ll):\n",
    "    xx=vector(ll)\n",
    "    if xx != 0:\n",
    "        xx=vector(reversed(vector(F(vector(reversed(xx)))^(-1))))\n",
    "    return list(xx*matrix(GF(2),4,[0,1,1,1,1,1,1,0,1,1,0,1,1,0,1,1])+vector([0,0,1,1]))\n",
    "\n",
    "def shiftrow(ll):\n",
    "    return [ll[0],ll[3],ll[2],ll[1]]\n",
    "\n",
    "def mixcolumn(ll):\n",
    "    return [list(reversed(vector(ele))) for ele in(matrix(F,2,[xi+1,xi,xi,xi+1])*matrix(F,2,[F(vector(reversed(ll[0]))),F(vector(reversed(ll[2]))),F(vector(reversed(ll[1]))),F(vector(reversed(ll[3])))])).transpose().list()]\n",
    "\n",
    "def addroundkey(ll,kk):\n",
    "    return [list(vector(ll[0])+vector(kk[0])),list(vector(ll[1])+vector(kk[1])),list(vector(ll[2])+vector(kk[2])),list(vector(ll[3])+vector(kk[3]))]\n",
    "#CalculaK0,K1,K2\n",
    "\n",
    "def keysquedule(kk):\n",
    "    ww=list(reversed(vector(GF(2),kk.bits())))\n",
    "#SiK0esmenorde16bit,serellenaconceros\n",
    "    while len(ww)<16:\n",
    "        ww=[GF(2)(0)]+ww\n",
    "    #Calculamosk1,k2ylometemosenlalista\n",
    "    ww=[[ww[0],ww[1],ww[2],ww[3]],[ww[4],ww[5],ww[6],ww[7]],[ww[8],ww[9],ww[10],ww[11]],[ww[12],ww[13],ww[14],ww[15]]]\n",
    "    ww+=[list(vector(ww[0])+vector(nibblesub(ww[3]))+vector(GF(2),[0,0,0,1]))]#w4\n",
    "    ww+=[list(vector(ww[1])+vector(ww[4]))]#w5\n",
    "    ww+=[list(vector(ww[2])+vector(ww[5]))]#w6\n",
    "    ww+=[list(vector(ww[3])+vector(ww[6]))]#w7\n",
    "    ww+=[list(vector(ww[4])+vector(nibblesub(ww[7]))+vector(GF(2),[0,0,1,0]))]#w8\n",
    "    ww+=[list(vector(ww[5])+vector(ww[8]))]#w9\n",
    "    ww+=[list(vector(ww[6])+vector(ww[9]))]#w10\n",
    "    ww+=[list(vector(ww[7])+vector(ww[10]))]#w11\n",
    "    return ww\n",
    "def MiniAES(kk,mm):\n",
    "    ww=keysquedule(kk)#w0,w1,w2,w3,.....,w11\n",
    "    #m[i]\n",
    "    estado=list(reversed(vector(GF(2),mm.bits())))\n",
    "    while len(estado)<16:\n",
    "        estado=[GF(2)(0)]+estado\n",
    "    estado=[[estado[0],estado[1],estado[2],estado[3]],[estado[4],estado[5],estado[6],estado[7]],[estado[8],estado[9],estado[10],estado[11]],[estado[12],estado[13],estado[14],estado[15]]]\n",
    "    #YaaplicolafunciondeencriptarEk()--->MiniAes\n",
    "    estado=addroundkey(estado,[ww[0],ww[1],ww[2],ww[3]])#XOR\n",
    "    estado=[nibblesub(ele) for ele in estado]#GAMMA\n",
    "    estado=shiftrow(estado)#PI\n",
    "    estado=mixcolumn(estado)#O\n",
    "    estado=addroundkey(estado,[ww[4],ww[5],ww[6],ww[7]])\n",
    "    estado=[nibblesub(ele) for ele in estado]\n",
    "    estado=shiftrow(estado)\n",
    "    estado=addroundkey(estado,[ww[8],ww[9],ww[10],ww[11]])\n",
    "    salida=list(reversed(estado[0]+estado[1]+estado[2]+estado[3]))\n",
    "    return estado,Integer(salida,base=2).hex()\n",
    "\n",
    "clave=49616461%(65536)\n",
    "\n",
    "mensaje=list(0x01234567.bits())\n",
    "\n",
    "#DividimosenbloquesdetamanoN=16\n",
    "mens2=[1,1,1,0,0,1,1,0,1,0,1,0,0,0,1,0]\n",
    "mens1=[1,1,0,0,0,1,0,0,1]+[0,0,0,0,0,0,0]\n",
    "c0='0x0001'\n",
    "c1='0x'+MiniAES(clave,Integer(mens1,base=2)^(Integer(c0)))[1]\n",
    "c2='0x'+MiniAES(clave,Integer(mens2,base=2)^(Integer(c1)))[1]"
   ]
  }
 ],
 "metadata": {
  "kernelspec": {
   "display_name": "SageMath 9.0",
   "language": "sage",
   "name": "sagemath"
  },
  "language_info": {
   "codemirror_mode": {
    "name": "ipython",
    "version": 3
   },
   "file_extension": ".py",
   "mimetype": "text/x-python",
   "name": "sage",
   "nbconvert_exporter": "python",
   "pygments_lexer": "ipython3",
   "version": "3.8.10"
  },
  "orig_nbformat": 4
 },
 "nbformat": 4,
 "nbformat_minor": 2
}
