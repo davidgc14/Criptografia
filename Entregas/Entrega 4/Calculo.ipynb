{
 "cells": [
  {
   "cell_type": "code",
   "execution_count": 114,
   "metadata": {},
   "outputs": [],
   "source": [
    "# Inicialización de datos\n",
    "\n",
    "x0    = [0,0,0,0,1]\n",
    "x1    = [0,0,0,1,0]\n",
    "x2    = [0,0,1,0,0] \n",
    "x3    = [0,1,0,0,0] \n",
    "x4    = [1,0,0,0,0]\n",
    "x5    = [0,0,1,0,1]\n",
    "x6    = [0,1,0,1,0]\n",
    "x7    = [1,0,1,0,0]\n",
    "x8    = [0,1,1,0,1]\n",
    "x9    = [1,1,0,1,0]\n",
    "x10   = [1,0,0,0,1]\n",
    "x11   = [0,0,1,1,1]\n",
    "x12   = [0,1,1,1,0]\n",
    "x13   = [1,1,1,0,0]\n",
    "x14   = [1,1,1,0,1]\n",
    "x15   = [1,1,1,1,1]\n",
    "x16   = [1,1,0,1,1]\n",
    "x17   = [1,0,0,1,1]\n",
    "x18   = [0,0,0,1,1]\n",
    "x19   = [0,0,1,1,0]\n",
    "x20   = [0,1,1,0,0]\n",
    "x21   = [1,1,0,0,0]\n",
    "x22   = [1,0,1,0,1]\n",
    "x23   = [0,1,1,1,1]\n",
    "x24   = [1,1,1,1,0]\n",
    "x25   = [1,1,0,0,1]\n",
    "x26   = [1,0,1,1,1]\n",
    "x27   = [0,1,0,1,1]\n",
    "x28   = [1,0,1,1,0]\n",
    "x29   = [0,1,0,0,1]\n",
    "x30   = [1,0,0,1,0]\n",
    "\n",
    "vectorGrande = [x0,x1,x2,x3,x4,x5,x6,x7,x8,x9,x10,x11,x12,x13,x14,x15,x16,x17,x18,x19,x20,x21,x22,x23,x24,x25,x26,x27,x28,x29,x30]"
   ]
  },
  {
   "cell_type": "code",
   "execution_count": 115,
   "metadata": {},
   "outputs": [],
   "source": [
    "# Declaración de funciones\n",
    "\n",
    "def buscarVector(vectorAbuscar, vectorGrande):\n",
    "    for i in range(len(vectorGrande)):\n",
    "        if vectorGrande[i] == vectorAbuscar:\n",
    "            return i\n",
    "    return -50\n",
    "\n",
    "def suma(indice1, indice2, vectorGrande):\n",
    "    vector = [0,0,0,0,0]\n",
    "    if indice1 == -50:\n",
    "        return indice2\n",
    "    if indice2 == -50:\n",
    "        return indice1\n",
    "\n",
    "    indice1 = indice1 % 31\n",
    "    indice2 = indice2 % 31\n",
    "\n",
    "    for i in range(len(vectorGrande[indice1])):\n",
    "        vector[i] = (vectorGrande[indice1][i] + vectorGrande[indice2][i]) % 2\n",
    "    return buscarVector(vector, vectorGrande)\n",
    "\n",
    "def producto(indice1, indice2):\n",
    "    if indice1 == -50 or indice2 == -50:\n",
    "        return -50\n",
    "    n = indice1 + indice2\n",
    "    n = n % 31\n",
    "    return n"
   ]
  },
  {
   "cell_type": "code",
   "execution_count": 127,
   "metadata": {},
   "outputs": [],
   "source": [
    "# Datos de la curva\n",
    "\n",
    "E = [5, 16]\n",
    "Q = [12, 18]\n",
    "a = E[0]"
   ]
  },
  {
   "cell_type": "code",
   "execution_count": 129,
   "metadata": {},
   "outputs": [
    {
     "name": "stdout",
     "output_type": "stream",
     "text": [
      "Lamda:  2\n",
      "Punto 2:  10 0\n"
     ]
    }
   ],
   "source": [
    "# Primer grupo\n",
    "\n",
    "lam2 = suma(Q[0], producto(Q[1], -Q[0]), vectorGrande)\n",
    "p2 = suma(suma(2*lam2, lam2, vectorGrande), a, vectorGrande)\n",
    "q2 = suma(producto(lam2, suma(Q[0], p2, vectorGrande)), suma(p2, Q[1], vectorGrande), vectorGrande)\n",
    "\n",
    "print(\"Lamda: \",lam2)\n",
    "print(\"Punto 2: \",p2, q2)"
   ]
  },
  {
   "cell_type": "code",
   "execution_count": 130,
   "metadata": {},
   "outputs": [
    {
     "name": "stdout",
     "output_type": "stream",
     "text": [
      "Lamda:  17\n",
      "Punto 3:  0 21\n"
     ]
    }
   ],
   "source": [
    "# Segundo grupo\n",
    "\n",
    "Q2 = [p2, q2]\n",
    "\n",
    "lam3 = producto(suma(Q2[1], Q[1], vectorGrande), -suma(Q2[0], Q[0], vectorGrande))\n",
    "p3 = suma(suma(suma(2*lam3, lam3, vectorGrande), suma(a, Q2[0], vectorGrande), vectorGrande), Q[0], vectorGrande)\n",
    "q3 = suma(producto(lam3, suma(Q2[0], p3, vectorGrande)), suma(p3, Q2[1], vectorGrande), vectorGrande)\n",
    "\n",
    "print(\"Lamda: \",lam3)\n",
    "print(\"Punto 3: \",p3, q3)"
   ]
  },
  {
   "cell_type": "code",
   "execution_count": 134,
   "metadata": {},
   "outputs": [
    {
     "name": "stdout",
     "output_type": "stream",
     "text": [
      "Lamda:  24\n",
      "Punto 4:  11 10\n"
     ]
    }
   ],
   "source": [
    "# Tercer grupo\n",
    "\n",
    "Q3 = [p3, q3]\n",
    "\n",
    "lam4 = producto(suma(Q3[1], Q[1], vectorGrande), -suma(Q3[0], Q[0], vectorGrande))\n",
    "p4 = suma(suma(suma(2*lam4, lam4, vectorGrande), suma(a, Q3[0], vectorGrande), vectorGrande), Q[0], vectorGrande)\n",
    "q4 = suma(producto(lam4, suma(Q3[0], p4, vectorGrande)), suma(p4, Q3[1], vectorGrande), vectorGrande)\n",
    "\n",
    "print(\"Lamda: \",lam4)\n",
    "print(\"Punto 4: \",p4, q4)"
   ]
  },
  {
   "cell_type": "code",
   "execution_count": 137,
   "metadata": {},
   "outputs": [
    {
     "name": "stdout",
     "output_type": "stream",
     "text": [
      "Lamda:  1\n",
      "Punto 5:  6 0\n"
     ]
    }
   ],
   "source": [
    "# Cuarto grupo\n",
    "\n",
    "Q4 = [p4, q4]\n",
    "\n",
    "lam5 = producto(suma(Q4[1], Q[1], vectorGrande), -suma(Q4[0], Q[0], vectorGrande))\n",
    "p5 = suma(suma(suma(2*lam5, lam5, vectorGrande), suma(a, Q4[0], vectorGrande), vectorGrande), Q[0], vectorGrande)\n",
    "q5 = suma(producto(lam5, suma(Q4[0], p5, vectorGrande)), suma(p5, Q4[1], vectorGrande), vectorGrande)\n",
    "\n",
    "print(\"Lamda: \",lam5)\n",
    "print(\"Punto 5: \",p5, q5)"
   ]
  },
  {
   "cell_type": "code",
   "execution_count": 138,
   "metadata": {},
   "outputs": [
    {
     "name": "stdout",
     "output_type": "stream",
     "text": [
      "Lamda:  30\n",
      "Punto 6:  9 17\n"
     ]
    }
   ],
   "source": [
    "# Quinto grupo\n",
    "\n",
    "Q5 = [p5, q5]\n",
    "\n",
    "lam6 = producto(suma(Q5[1], Q[1], vectorGrande), -suma(Q5[0], Q[0], vectorGrande))\n",
    "p6 = suma(suma(suma(2*lam6, lam6, vectorGrande), suma(a, Q5[0], vectorGrande), vectorGrande), Q[0], vectorGrande)\n",
    "q6 = suma(producto(lam6, suma(Q5[0], p6, vectorGrande)), suma(p6, Q5[1], vectorGrande), vectorGrande)\n",
    "\n",
    "print(\"Lamda: \",lam6)\n",
    "print(\"Punto 6: \",p6, q6)"
   ]
  },
  {
   "cell_type": "code",
   "execution_count": 139,
   "metadata": {},
   "outputs": [
    {
     "data": {
      "text/plain": [
       "29"
      ]
     },
     "execution_count": 139,
     "metadata": {},
     "output_type": "execute_result"
    }
   ],
   "source": [
    "producto(30,30)"
   ]
  }
 ],
 "metadata": {
  "interpreter": {
   "hash": "916dbcbb3f70747c44a77c7bcd40155683ae19c65e1c03b4aa3499c5328201f1"
  },
  "kernelspec": {
   "display_name": "SageMath 9.0",
   "language": "sage",
   "name": "sagemath"
  },
  "language_info": {
   "codemirror_mode": {
    "name": "ipython",
    "version": 3
   },
   "file_extension": ".py",
   "mimetype": "text/x-python",
   "name": "python",
   "nbconvert_exporter": "python",
   "pygments_lexer": "ipython3",
   "version": "3.8.10"
  },
  "orig_nbformat": 4
 },
 "nbformat": 4,
 "nbformat_minor": 2
}
