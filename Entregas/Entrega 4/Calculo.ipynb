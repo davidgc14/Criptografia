{
 "cells": [
  {
   "cell_type": "code",
   "execution_count": 16,
   "metadata": {},
   "outputs": [],
   "source": [
    "# Inicialización de datos\n",
    "\n",
    "x0    = [0,0,0,0,1]\n",
    "x1    = [0,0,0,1,0]\n",
    "x2    = [0,0,1,0,0] \n",
    "x3    = [0,1,0,0,0] \n",
    "x4    = [1,0,0,0,0]\n",
    "x5    = [0,0,1,0,1]\n",
    "x6    = [0,1,0,1,0]\n",
    "x7    = [1,0,1,0,0]\n",
    "x8    = [0,1,1,0,1]\n",
    "x9    = [1,1,0,1,0]\n",
    "x10   = [1,0,0,0,1]\n",
    "x11   = [0,0,1,1,1]\n",
    "x12   = [0,1,1,1,0]\n",
    "x13   = [1,1,1,0,0]\n",
    "x14   = [1,1,1,0,1]\n",
    "x15   = [1,1,1,1,1]\n",
    "x16   = [1,1,0,1,1]\n",
    "x17   = [1,0,0,1,1]\n",
    "x18   = [0,0,0,1,1]\n",
    "x19   = [0,0,1,1,0]\n",
    "x20   = [0,1,1,0,0]\n",
    "x21   = [1,1,0,0,0]\n",
    "x22   = [1,0,1,0,1]\n",
    "x23   = [0,1,1,1,1]\n",
    "x24   = [1,1,1,1,0]\n",
    "x25   = [1,1,0,0,1]\n",
    "x26   = [1,0,1,1,1]\n",
    "x27   = [0,1,0,1,1]\n",
    "x28   = [1,0,1,1,0]\n",
    "x29   = [0,1,0,0,1]\n",
    "x30   = [1,0,0,1,0]\n",
    "\n",
    "vectorGrande = [x0,x1,x2,x3,x4,x5,x6,x7,x8,x9,x10,x11,x12,x13,x14,x15,x16,x17,x18,x19,x20,x21,x22,x23,x24,x25,x26,x27,x28,x29,x30]"
   ]
  },
  {
   "cell_type": "code",
   "execution_count": 28,
   "metadata": {},
   "outputs": [],
   "source": [
    "# Declaración de funciones\n",
    "\n",
    "def buscarVector(vectorAbuscar, vectorGrande):\n",
    "    for i in range(len(vectorGrande)):\n",
    "        if vectorGrande[i] == vectorAbuscar:\n",
    "            return i\n",
    "    return -1\n",
    "\n",
    "def suma(indice1, indice2, vectorGrande):\n",
    "    vector = [0,0,0,0,0]\n",
    "    for i in range(len(vectorGrande[indice1])):\n",
    "        vector[i] = (vectorGrande[indice1][i] + vectorGrande[indice2][i]) % 2\n",
    "    return buscarVector(vector, vectorGrande)"
   ]
  },
  {
   "cell_type": "code",
   "execution_count": 30,
   "metadata": {},
   "outputs": [
    {
     "data": {
      "text/plain": [
       "1"
      ]
     },
     "execution_count": 30,
     "metadata": {},
     "output_type": "execute_result"
    }
   ],
   "source": [
    "# Espacio de trabajo\n",
    "\n",
    "suma(21,9,vectorGrande)"
   ]
  }
 ],
 "metadata": {
  "interpreter": {
   "hash": "916dbcbb3f70747c44a77c7bcd40155683ae19c65e1c03b4aa3499c5328201f1"
  },
  "kernelspec": {
   "display_name": "SageMath 9.0",
   "language": "sage",
   "name": "sagemath"
  },
  "language_info": {
   "codemirror_mode": {
    "name": "ipython",
    "version": 3
   },
   "file_extension": ".py",
   "mimetype": "text/x-python",
   "name": "python",
   "nbconvert_exporter": "python",
   "pygments_lexer": "ipython3",
   "version": "3.8.10"
  },
  "orig_nbformat": 4
 },
 "nbformat": 4,
 "nbformat_minor": 2
}
