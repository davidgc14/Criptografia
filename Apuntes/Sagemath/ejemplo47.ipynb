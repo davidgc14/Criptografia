{
 "cells": [
  {
   "cell_type": "code",
   "execution_count": 1,
   "metadata": {},
   "outputs": [
    {
     "name": "stdout",
     "output_type": "stream",
     "text": [
      "x^4 + 2*x^3 + 2\n"
     ]
    }
   ],
   "source": [
    "p=3\n",
    "n=4\n",
    "q=p^n\n",
    "F = GF(p)\n",
    "L.<a> = GF(q)\n",
    "R.<x> = F[]\n",
    "f = R(L.modulus())\n",
    "print(f)"
   ]
  },
  {
   "cell_type": "code",
   "execution_count": 2,
   "metadata": {},
   "outputs": [],
   "source": [
    "b = L.random_element()\n",
    "while b^40 == 1 or b^16 == 1:\n",
    "    b = L.random_element()\n",
    "\n",
    "b = L(a^3 + 2*a^2 + 1)\n",
    "b = L(a)\n",
    "print(b)"
   ]
  },
  {
   "cell_type": "code",
   "execution_count": 3,
   "metadata": {},
   "outputs": [
    {
     "data": {
      "text/plain": [
       "2"
      ]
     },
     "execution_count": 3,
     "metadata": {},
     "output_type": "execute_result"
    }
   ],
   "source": [
    "bprime = b^40\n",
    "bprime"
   ]
  },
  {
   "cell_type": "code",
   "execution_count": null,
   "metadata": {},
   "outputs": [],
   "source": [
    "B = list(R.polynomials(1)) + list(R.polynomials(2))\n",
    "B = [ele[0] for ele in B if (ele.is_pol)]"
   ]
  },
  {
   "cell_type": "code",
   "execution_count": null,
   "metadata": {},
   "outputs": [],
   "source": [
    "# falta"
   ]
  },
  {
   "cell_type": "code",
   "execution_count": 4,
   "metadata": {},
   "outputs": [],
   "source": [
    "ecuaciones = []"
   ]
  },
  {
   "cell_type": "code",
   "execution_count": 7,
   "metadata": {},
   "outputs": [
    {
     "name": "stdout",
     "output_type": "stream",
     "text": [
      "58 (2) * (x + 1) * (x^2 + 1)\n"
     ]
    }
   ],
   "source": [
    "t = ZZ.random_element(q-1)\n",
    "t = 58\n",
    "c = R((b^t).polynomial())\n",
    "print(t, c.factor())"
   ]
  },
  {
   "cell_type": "code",
   "execution_count": 8,
   "metadata": {},
   "outputs": [
    {
     "name": "stdout",
     "output_type": "stream",
     "text": [
      "[[0, 1, 0, 1, 0, 0, 6]]\n"
     ]
    }
   ],
   "source": [
    "ecuaciones += [[0,1,0,1,0,0,46-40]]\n",
    "print(ecuaciones)"
   ]
  },
  {
   "cell_type": "code",
   "execution_count": null,
   "metadata": {},
   "outputs": [],
   "source": [
    "M = matrix([eq[0:6] for eq in ecuaciones])\n",
    "print(M)"
   ]
  },
  {
   "cell_type": "code",
   "execution_count": 9,
   "metadata": {},
   "outputs": [
    {
     "ename": "IndexError",
     "evalue": "pop index out of range",
     "output_type": "error",
     "traceback": [
      "\u001b[0;31m---------------------------------------------------------------------------\u001b[0m",
      "\u001b[0;31mIndexError\u001b[0m                                Traceback (most recent call last)",
      "\u001b[1;32m/home/curbelo/Documentos/Criptografia/Apuntes/Sagemath/ejemplo47.ipynb Cell 10'\u001b[0m in \u001b[0;36m<cell line: 1>\u001b[0;34m()\u001b[0m\n\u001b[0;32m----> <a href='vscode-notebook-cell:/home/curbelo/Documentos/Criptografia/Apuntes/Sagemath/ejemplo47.ipynb#ch0000008?line=0'>1</a>\u001b[0m ecuaciones\u001b[39m.\u001b[39;49mpop(Integer(\u001b[39m2\u001b[39;49m))\n\u001b[1;32m      <a href='vscode-notebook-cell:/home/curbelo/Documentos/Criptografia/Apuntes/Sagemath/ejemplo47.ipynb#ch0000008?line=1'>2</a>\u001b[0m \u001b[39mprint\u001b[39m(ecuaciones)\n",
      "\u001b[0;31mIndexError\u001b[0m: pop index out of range"
     ]
    }
   ],
   "source": [
    "ecuaciones.pop(2)\n",
    "print(ecuaciones)"
   ]
  },
  {
   "cell_type": "code",
   "execution_count": null,
   "metadata": {},
   "outputs": [],
   "source": [
    "logs = matrix(Zmod(q-1).[ele[0:6] for ele in ecuaciones]).inverse().vector_space()"
   ]
  },
  {
   "cell_type": "code",
   "execution_count": null,
   "metadata": {},
   "outputs": [],
   "source": []
  }
 ],
 "metadata": {
  "kernelspec": {
   "display_name": "SageMath 9.0",
   "language": "sage",
   "name": "sagemath"
  },
  "language_info": {
   "codemirror_mode": {
    "name": "ipython",
    "version": 3
   },
   "file_extension": ".py",
   "mimetype": "text/x-python",
   "name": "python",
   "nbconvert_exporter": "python",
   "pygments_lexer": "ipython3",
   "version": "3.8.10"
  },
  "orig_nbformat": 4
 },
 "nbformat": 4,
 "nbformat_minor": 2
}
