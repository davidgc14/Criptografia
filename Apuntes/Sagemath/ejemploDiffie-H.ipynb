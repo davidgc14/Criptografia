{
 "cells": [
  {
   "cell_type": "code",
   "execution_count": 2,
   "metadata": {},
   "outputs": [
    {
     "name": "stdout",
     "output_type": "stream",
     "text": [
      "1163947102701600654990913\n",
      "0.021792000000000034\n"
     ]
    }
   ],
   "source": [
    "tt = cputime()\n",
    "r = 2^45 + 1 + ZZ.random_element(2^44)*2\n",
    "while not(r.is_prime()):\n",
    "    r += 2\n",
    "print(r)\n",
    "print(cputime(tt))"
   ]
  },
  {
   "cell_type": "code",
   "execution_count": null,
   "metadata": {},
   "outputs": [],
   "source": [
    "tt = cputime()\n",
    "k = 2^44 + 1 + ZZ.random_element(2^43)*2"
   ]
  },
  {
   "cell_type": "code",
   "execution_count": 4,
   "metadata": {},
   "outputs": [
    {
     "name": "stdout",
     "output_type": "stream",
     "text": [
      "[2, 3, 248231, 24421705964353781]\n"
     ]
    }
   ],
   "source": [
    "primos = [ele[0] for ele in list((r-1).factor())]\n",
    "print(primos)"
   ]
  },
  {
   "cell_type": "code",
   "execution_count": null,
   "metadata": {},
   "outputs": [],
   "source": [
    "N,L = "
   ]
  },
  {
   "cell_type": "code",
   "execution_count": null,
   "metadata": {},
   "outputs": [],
   "source": [
    "tt = cputime()\n",
    "ii = 1\n",
    "g = ZZ.random_element(p-1)\n"
   ]
  }
 ],
 "metadata": {
  "kernelspec": {
   "display_name": "SageMath 9.0",
   "language": "sage",
   "name": "sagemath"
  },
  "language_info": {
   "codemirror_mode": {
    "name": "ipython",
    "version": 3
   },
   "file_extension": ".py",
   "mimetype": "text/x-python",
   "name": "python",
   "nbconvert_exporter": "python",
   "pygments_lexer": "ipython3",
   "version": "3.8.10"
  },
  "orig_nbformat": 4
 },
 "nbformat": 4,
 "nbformat_minor": 2
}
