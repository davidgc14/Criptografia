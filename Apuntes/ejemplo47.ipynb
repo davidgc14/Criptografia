{
 "cells": [
  {
   "cell_type": "code",
   "execution_count": 1,
   "metadata": {},
   "outputs": [
    {
     "name": "stdout",
     "output_type": "stream",
     "text": [
      "x^4 + 2*x^3 + 2\n"
     ]
    }
   ],
   "source": [
    "p=3\n",
    "n=4\n",
    "q=p^n\n",
    "F = GF(p)\n",
    "L.<a> = GF(q)\n",
    "R.<x> = F[]\n",
    "f = R(L.modulus())\n",
    "print(f)"
   ]
  },
  {
   "cell_type": "code",
   "execution_count": null,
   "metadata": {},
   "outputs": [],
   "source": [
    "b = L.random_element()\n",
    "while b^40 == 1 or b^16 == 1:\n",
    "    b = L.random_element()\n",
    "\n",
    "b = "
   ]
  }
 ],
 "metadata": {
  "kernelspec": {
   "display_name": "SageMath 9.0",
   "language": "sage",
   "name": "sagemath"
  },
  "language_info": {
   "codemirror_mode": {
    "name": "ipython",
    "version": 3
   },
   "file_extension": ".py",
   "mimetype": "text/x-python",
   "name": "python",
   "nbconvert_exporter": "python",
   "pygments_lexer": "ipython3",
   "version": "3.8.10"
  },
  "orig_nbformat": 4
 },
 "nbformat": 4,
 "nbformat_minor": 2
}
